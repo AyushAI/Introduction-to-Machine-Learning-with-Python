{
 "cells": [
  {
   "cell_type": "code",
   "execution_count": 18,
   "id": "c1cff77c",
   "metadata": {},
   "outputs": [],
   "source": [
    "# here we first install and import the mglearb for futher operations"
   ]
  },
  {
   "cell_type": "code",
   "execution_count": 2,
   "id": "2aa219fe",
   "metadata": {},
   "outputs": [
    {
     "name": "stdout",
     "output_type": "stream",
     "text": [
      "Collecting mglearn\n",
      "  Using cached mglearn-0.1.9.tar.gz (540 kB)\n",
      "  Preparing metadata (setup.py): started\n",
      "  Preparing metadata (setup.py): finished with status 'done'\n",
      "Requirement already satisfied: numpy in c:\\users\\ayush\\anaconda3\\lib\\site-packages (from mglearn) (1.21.5)\n",
      "Requirement already satisfied: matplotlib in c:\\users\\ayush\\anaconda3\\lib\\site-packages (from mglearn) (3.5.2)\n",
      "Requirement already satisfied: scikit-learn in c:\\users\\ayush\\anaconda3\\lib\\site-packages (from mglearn) (1.0.2)\n",
      "Requirement already satisfied: pandas in c:\\users\\ayush\\anaconda3\\lib\\site-packages (from mglearn) (1.4.4)\n",
      "Requirement already satisfied: pillow in c:\\users\\ayush\\anaconda3\\lib\\site-packages (from mglearn) (9.2.0)\n",
      "Requirement already satisfied: cycler in c:\\users\\ayush\\anaconda3\\lib\\site-packages (from mglearn) (0.11.0)\n",
      "Requirement already satisfied: imageio in c:\\users\\ayush\\anaconda3\\lib\\site-packages (from mglearn) (2.19.3)\n",
      "Requirement already satisfied: joblib in c:\\users\\ayush\\anaconda3\\lib\\site-packages (from mglearn) (1.1.0)\n",
      "Requirement already satisfied: pyparsing>=2.2.1 in c:\\users\\ayush\\anaconda3\\lib\\site-packages (from matplotlib->mglearn) (3.0.9)\n",
      "Requirement already satisfied: python-dateutil>=2.7 in c:\\users\\ayush\\anaconda3\\lib\\site-packages (from matplotlib->mglearn) (2.8.2)\n",
      "Requirement already satisfied: kiwisolver>=1.0.1 in c:\\users\\ayush\\anaconda3\\lib\\site-packages (from matplotlib->mglearn) (1.4.2)\n",
      "Requirement already satisfied: packaging>=20.0 in c:\\users\\ayush\\anaconda3\\lib\\site-packages (from matplotlib->mglearn) (21.3)\n",
      "Requirement already satisfied: fonttools>=4.22.0 in c:\\users\\ayush\\anaconda3\\lib\\site-packages (from matplotlib->mglearn) (4.25.0)\n",
      "Requirement already satisfied: pytz>=2020.1 in c:\\users\\ayush\\anaconda3\\lib\\site-packages (from pandas->mglearn) (2022.1)\n",
      "Requirement already satisfied: scipy>=1.1.0 in c:\\users\\ayush\\anaconda3\\lib\\site-packages (from scikit-learn->mglearn) (1.9.1)\n",
      "Requirement already satisfied: threadpoolctl>=2.0.0 in c:\\users\\ayush\\anaconda3\\lib\\site-packages (from scikit-learn->mglearn) (2.2.0)\n",
      "Requirement already satisfied: six>=1.5 in c:\\users\\ayush\\anaconda3\\lib\\site-packages (from python-dateutil>=2.7->matplotlib->mglearn) (1.16.0)\n",
      "Building wheels for collected packages: mglearn\n",
      "  Building wheel for mglearn (setup.py): started\n",
      "  Building wheel for mglearn (setup.py): finished with status 'done'\n",
      "  Created wheel for mglearn: filename=mglearn-0.1.9-py2.py3-none-any.whl size=582621 sha256=ae381f3d5ff50612963eb161fe45d18c66ca43bbf63c89b5f34dc0898536ad9d\n",
      "  Stored in directory: c:\\users\\ayush\\appdata\\local\\pip\\cache\\wheels\\df\\30\\8a\\1e2c8f144c9d411b0688f628d496d2db8f61b6d14bcedaa1df\n",
      "Successfully built mglearn\n",
      "Installing collected packages: mglearn\n",
      "Successfully installed mglearn-0.1.9\n"
     ]
    }
   ],
   "source": [
    "!pip install mglearn"
   ]
  },
  {
   "cell_type": "code",
   "execution_count": 3,
   "id": "a249ea51",
   "metadata": {},
   "outputs": [],
   "source": [
    "import mglearn"
   ]
  },
  {
   "cell_type": "code",
   "execution_count": 4,
   "id": "2a2c565a",
   "metadata": {},
   "outputs": [],
   "source": [
    "from sklearn.model_selection import train_test_split"
   ]
  },
  {
   "cell_type": "code",
   "execution_count": 24,
   "id": "8e9a42c8",
   "metadata": {},
   "outputs": [],
   "source": [
    "# now we split the make_forge data into two dimension i.e. X and Y "
   ]
  },
  {
   "cell_type": "code",
   "execution_count": 5,
   "id": "dd051ea7",
   "metadata": {},
   "outputs": [
    {
     "name": "stderr",
     "output_type": "stream",
     "text": [
      "C:\\Users\\AYUSH\\anaconda3\\lib\\site-packages\\sklearn\\utils\\deprecation.py:87: FutureWarning: Function make_blobs is deprecated; Please import make_blobs directly from scikit-learn\n",
      "  warnings.warn(msg, category=FutureWarning)\n"
     ]
    }
   ],
   "source": [
    "x , y = mglearn.datasets.make_forge()"
   ]
  },
  {
   "cell_type": "code",
   "execution_count": 11,
   "id": "09c7b45e",
   "metadata": {},
   "outputs": [],
   "source": [
    "x_train,x_test,y_train,y_test = train_test_split(x,y,random_state=0)"
   ]
  },
  {
   "cell_type": "code",
   "execution_count": 23,
   "id": "79ab4414",
   "metadata": {},
   "outputs": [],
   "source": [
    "# here we import the K Neighbor Classifier Model available in the sklearn.neighbors"
   ]
  },
  {
   "cell_type": "code",
   "execution_count": 12,
   "id": "62b4fc99",
   "metadata": {},
   "outputs": [],
   "source": [
    "from sklearn.neighbors import KNeighborsClassifier"
   ]
  },
  {
   "cell_type": "code",
   "execution_count": 20,
   "id": "6c68b814",
   "metadata": {},
   "outputs": [],
   "source": [
    "# here we gave the alias as \"clf\" to the KNeighborsClassifier"
   ]
  },
  {
   "cell_type": "code",
   "execution_count": 13,
   "id": "8d23094e",
   "metadata": {},
   "outputs": [],
   "source": [
    "clf = KNeighborsClassifier(n_neighbors = 3)"
   ]
  },
  {
   "cell_type": "code",
   "execution_count": 14,
   "id": "8ff9fd19",
   "metadata": {},
   "outputs": [
    {
     "data": {
      "text/plain": [
       "KNeighborsClassifier(n_neighbors=3)"
      ]
     },
     "execution_count": 14,
     "metadata": {},
     "output_type": "execute_result"
    }
   ],
   "source": [
    "clf"
   ]
  },
  {
   "cell_type": "code",
   "execution_count": 19,
   "id": "9bfa0e8f",
   "metadata": {},
   "outputs": [],
   "source": [
    "# here we are fitting the model with the training datasets"
   ]
  },
  {
   "cell_type": "code",
   "execution_count": 15,
   "id": "664a906b",
   "metadata": {},
   "outputs": [
    {
     "data": {
      "text/plain": [
       "KNeighborsClassifier(n_neighbors=3)"
      ]
     },
     "execution_count": 15,
     "metadata": {},
     "output_type": "execute_result"
    }
   ],
   "source": [
    "clf.fit(x_train,y_train)"
   ]
  },
  {
   "cell_type": "code",
   "execution_count": 21,
   "id": "b66a5e0e",
   "metadata": {},
   "outputs": [],
   "source": [
    "# here we are predicting the results of the trainig model on data"
   ]
  },
  {
   "cell_type": "code",
   "execution_count": 16,
   "id": "9951e3ee",
   "metadata": {},
   "outputs": [
    {
     "name": "stdout",
     "output_type": "stream",
     "text": [
      "Test set prediction : [1 0 1 0 1 0 0]\n"
     ]
    },
    {
     "name": "stderr",
     "output_type": "stream",
     "text": [
      "C:\\Users\\AYUSH\\anaconda3\\lib\\site-packages\\sklearn\\neighbors\\_classification.py:228: FutureWarning: Unlike other reduction functions (e.g. `skew`, `kurtosis`), the default behavior of `mode` typically preserves the axis it acts along. In SciPy 1.11.0, this behavior will change: the default value of `keepdims` will become False, the `axis` over which the statistic is taken will be eliminated, and the value None will no longer be accepted. Set `keepdims` to True or False to avoid this warning.\n",
      "  mode, _ = stats.mode(_y[neigh_ind, k], axis=1)\n"
     ]
    }
   ],
   "source": [
    "print(\"Test set prediction : {}\".format(clf.predict(x_test)))"
   ]
  },
  {
   "cell_type": "code",
   "execution_count": 22,
   "id": "04782dc1",
   "metadata": {},
   "outputs": [],
   "source": [
    "# finally we are analyzing the results score of test set "
   ]
  },
  {
   "cell_type": "code",
   "execution_count": 17,
   "id": "14b8814a",
   "metadata": {},
   "outputs": [
    {
     "name": "stdout",
     "output_type": "stream",
     "text": [
      "Test set accuracy : 0.8571428571428571\n"
     ]
    },
    {
     "name": "stderr",
     "output_type": "stream",
     "text": [
      "C:\\Users\\AYUSH\\anaconda3\\lib\\site-packages\\sklearn\\neighbors\\_classification.py:228: FutureWarning: Unlike other reduction functions (e.g. `skew`, `kurtosis`), the default behavior of `mode` typically preserves the axis it acts along. In SciPy 1.11.0, this behavior will change: the default value of `keepdims` will become False, the `axis` over which the statistic is taken will be eliminated, and the value None will no longer be accepted. Set `keepdims` to True or False to avoid this warning.\n",
      "  mode, _ = stats.mode(_y[neigh_ind, k], axis=1)\n"
     ]
    }
   ],
   "source": [
    "print(\"Test set accuracy : {}\".format(clf.score(x_test,y_test)))"
   ]
  },
  {
   "cell_type": "code",
   "execution_count": null,
   "id": "3f40a8f7",
   "metadata": {},
   "outputs": [],
   "source": []
  }
 ],
 "metadata": {
  "kernelspec": {
   "display_name": "Python 3 (ipykernel)",
   "language": "python",
   "name": "python3"
  },
  "language_info": {
   "codemirror_mode": {
    "name": "ipython",
    "version": 3
   },
   "file_extension": ".py",
   "mimetype": "text/x-python",
   "name": "python",
   "nbconvert_exporter": "python",
   "pygments_lexer": "ipython3",
   "version": "3.9.13"
  }
 },
 "nbformat": 4,
 "nbformat_minor": 5
}
