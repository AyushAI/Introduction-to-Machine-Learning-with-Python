{
 "cells": [
  {
   "cell_type": "code",
   "execution_count": 4,
   "id": "07793bef",
   "metadata": {},
   "outputs": [],
   "source": [
    "# here we first import the mglearb for futher operations"
   ]
  },
  {
   "cell_type": "code",
   "execution_count": 3,
   "id": "dc325431",
   "metadata": {},
   "outputs": [],
   "source": [
    "import mglearn"
   ]
  },
  {
   "cell_type": "code",
   "execution_count": 5,
   "id": "d09121c9",
   "metadata": {},
   "outputs": [],
   "source": [
    "# now we import the Linear Regression model from the Linear Model"
   ]
  },
  {
   "cell_type": "code",
   "execution_count": 2,
   "id": "6649ea06",
   "metadata": {},
   "outputs": [],
   "source": [
    "from sklearn.linear_model import LinearRegression"
   ]
  },
  {
   "cell_type": "code",
   "execution_count": 6,
   "id": "fb10ff24",
   "metadata": {},
   "outputs": [],
   "source": [
    "# now we need to split the data into two dimensions i.e. X and Y and here we have imported only 60 samples"
   ]
  },
  {
   "cell_type": "code",
   "execution_count": 8,
   "id": "688ac09f",
   "metadata": {},
   "outputs": [],
   "source": [
    "x , y =mglearn.datasets.make_wave(n_samples=60)"
   ]
  },
  {
   "cell_type": "code",
   "execution_count": 19,
   "id": "98967538",
   "metadata": {},
   "outputs": [],
   "source": [
    "# here we import the train_test_split model "
   ]
  },
  {
   "cell_type": "code",
   "execution_count": 10,
   "id": "082d01a4",
   "metadata": {},
   "outputs": [],
   "source": [
    "from sklearn.model_selection import train_test_split"
   ]
  },
  {
   "cell_type": "code",
   "execution_count": 11,
   "id": "f3f7e796",
   "metadata": {},
   "outputs": [],
   "source": [
    "x_train, x_test, y_train, y_test = train_test_split (x, y, random_state = 42)"
   ]
  },
  {
   "cell_type": "code",
   "execution_count": 20,
   "id": "20cb1e71",
   "metadata": {},
   "outputs": [],
   "source": [
    "# giving alias to the long name Linear Regression as lr"
   ]
  },
  {
   "cell_type": "code",
   "execution_count": 12,
   "id": "12fd74cb",
   "metadata": {},
   "outputs": [],
   "source": [
    "lr = LinearRegression()"
   ]
  },
  {
   "cell_type": "code",
   "execution_count": 21,
   "id": "f2ce0245",
   "metadata": {},
   "outputs": [],
   "source": [
    "# now we are fitting the training dataset to the model"
   ]
  },
  {
   "cell_type": "code",
   "execution_count": 22,
   "id": "851d5952",
   "metadata": {},
   "outputs": [
    {
     "data": {
      "text/plain": [
       "LinearRegression()"
      ]
     },
     "execution_count": 22,
     "metadata": {},
     "output_type": "execute_result"
    }
   ],
   "source": [
    "lr.fit(x_train,y_train)"
   ]
  },
  {
   "cell_type": "code",
   "execution_count": 23,
   "id": "ab821b4d",
   "metadata": {},
   "outputs": [],
   "source": [
    "# the \"slope\" parameters (w) also called weights or coefficients are stored in the coef_ attribute"
   ]
  },
  {
   "cell_type": "code",
   "execution_count": 16,
   "id": "c387e340",
   "metadata": {},
   "outputs": [
    {
     "name": "stdout",
     "output_type": "stream",
     "text": [
      "lr.coefficient : [0.39390555]\n"
     ]
    }
   ],
   "source": [
    "print(\"lr.coefficient : {}\".format(lr.coef_))"
   ]
  },
  {
   "cell_type": "code",
   "execution_count": 24,
   "id": "3e7ae8d1",
   "metadata": {},
   "outputs": [],
   "source": [
    "# while the offset or intercept (b) is stored in the intercept_ attribute"
   ]
  },
  {
   "cell_type": "code",
   "execution_count": 25,
   "id": "2640a359",
   "metadata": {},
   "outputs": [
    {
     "name": "stdout",
     "output_type": "stream",
     "text": [
      "lr.intercept : -0.031804343026759746\n"
     ]
    }
   ],
   "source": [
    "print(\"lr.intercept : {}\".format(lr.intercept_))"
   ]
  },
  {
   "cell_type": "code",
   "execution_count": 26,
   "id": "775b3ce9",
   "metadata": {},
   "outputs": [],
   "source": [
    "# here we are checking the traning set score"
   ]
  },
  {
   "cell_type": "code",
   "execution_count": 27,
   "id": "587faf27",
   "metadata": {},
   "outputs": [
    {
     "name": "stdout",
     "output_type": "stream",
     "text": [
      "Training set score 0.67\n"
     ]
    }
   ],
   "source": [
    "print(\"Training set score {:.2f}\".format(lr.score(x_train,y_train)))"
   ]
  },
  {
   "cell_type": "code",
   "execution_count": 28,
   "id": "1d30ccbd",
   "metadata": {},
   "outputs": [],
   "source": [
    "# and finally analyzing the test set score"
   ]
  },
  {
   "cell_type": "code",
   "execution_count": 18,
   "id": "d62758f9",
   "metadata": {},
   "outputs": [
    {
     "name": "stdout",
     "output_type": "stream",
     "text": [
      "Testing set score : 0.66\n"
     ]
    }
   ],
   "source": [
    "print(\"Testing set score : {:.2f}\".format(lr.score(x_test,y_test)))"
   ]
  },
  {
   "cell_type": "code",
   "execution_count": null,
   "id": "93a1986a",
   "metadata": {},
   "outputs": [],
   "source": []
  }
 ],
 "metadata": {
  "kernelspec": {
   "display_name": "Python 3 (ipykernel)",
   "language": "python",
   "name": "python3"
  },
  "language_info": {
   "codemirror_mode": {
    "name": "ipython",
    "version": 3
   },
   "file_extension": ".py",
   "mimetype": "text/x-python",
   "name": "python",
   "nbconvert_exporter": "python",
   "pygments_lexer": "ipython3",
   "version": "3.9.13"
  }
 },
 "nbformat": 4,
 "nbformat_minor": 5
}
