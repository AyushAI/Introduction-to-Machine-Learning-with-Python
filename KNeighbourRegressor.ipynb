{
 "cells": [
  {
   "cell_type": "code",
   "execution_count": 22,
   "id": "35c1df7d",
   "metadata": {},
   "outputs": [],
   "source": [
    "# here we first import the mglearb for futher operations"
   ]
  },
  {
   "cell_type": "code",
   "execution_count": 1,
   "id": "c055397d",
   "metadata": {},
   "outputs": [],
   "source": [
    "import mglearn"
   ]
  },
  {
   "cell_type": "code",
   "execution_count": 23,
   "id": "a846f6d6",
   "metadata": {},
   "outputs": [],
   "source": [
    "# here we import the K Neighbor Regressor Model available in the sklearn.neighbors"
   ]
  },
  {
   "cell_type": "code",
   "execution_count": 2,
   "id": "7b3c0a05",
   "metadata": {},
   "outputs": [],
   "source": [
    "from sklearn.neighbors import KNeighborsRegressor"
   ]
  },
  {
   "cell_type": "code",
   "execution_count": 25,
   "id": "22cfefa8",
   "metadata": {},
   "outputs": [],
   "source": [
    "# now we split the make_wave data into two dimension i.e. X and Y and we have imported only 40 samples"
   ]
  },
  {
   "cell_type": "code",
   "execution_count": 24,
   "id": "27e9ba65",
   "metadata": {},
   "outputs": [],
   "source": [
    "x , y = mglearn.datasets.make_wave(n_samples=40)"
   ]
  },
  {
   "cell_type": "code",
   "execution_count": 7,
   "id": "ef7e7df3",
   "metadata": {},
   "outputs": [],
   "source": [
    "from sklearn.model_selection import train_test_split"
   ]
  },
  {
   "cell_type": "code",
   "execution_count": 8,
   "id": "4c2655fa",
   "metadata": {},
   "outputs": [],
   "source": [
    "# split the wave dataset into a training and test set"
   ]
  },
  {
   "cell_type": "code",
   "execution_count": 9,
   "id": "4715ff1e",
   "metadata": {},
   "outputs": [],
   "source": [
    "x_train,x_test,y_train,y_test = train_test_split(x,y,random_state=0)"
   ]
  },
  {
   "cell_type": "code",
   "execution_count": 11,
   "id": "5c59e647",
   "metadata": {},
   "outputs": [
    {
     "data": {
      "text/plain": [
       "array([[ 0.08540663],\n",
       "       [ 1.85038409],\n",
       "       [-2.41396732],\n",
       "       [ 1.39196365],\n",
       "       [-0.35908504],\n",
       "       [ 0.64526911],\n",
       "       [ 2.7937922 ],\n",
       "       [-1.17454654],\n",
       "       [-1.17231738],\n",
       "       [ 0.60669007],\n",
       "       [-1.72596534],\n",
       "       [-2.06403288],\n",
       "       [ 0.14853859],\n",
       "       [-1.9090502 ],\n",
       "       [ 2.69331322],\n",
       "       [ 2.19705687],\n",
       "       [-2.60969044],\n",
       "       [ 2.70428584],\n",
       "       [-1.80195731],\n",
       "       [ 1.99465584],\n",
       "       [-1.97685526],\n",
       "       [-0.26358009],\n",
       "       [-2.65149833],\n",
       "       [-0.80182894],\n",
       "       [-2.16303684],\n",
       "       [-1.25262516],\n",
       "       [ 1.24843547],\n",
       "       [ 1.10539816],\n",
       "       [ 0.59195091],\n",
       "       [-0.75275929]])"
      ]
     },
     "execution_count": 11,
     "metadata": {},
     "output_type": "execute_result"
    }
   ],
   "source": [
    "x_train"
   ]
  },
  {
   "cell_type": "code",
   "execution_count": 12,
   "id": "eb2e8162",
   "metadata": {},
   "outputs": [
    {
     "data": {
      "text/plain": [
       "array([[-1.24713211],\n",
       "       [ 0.67111737],\n",
       "       [ 1.71105577],\n",
       "       [-2.06388816],\n",
       "       [-2.87649303],\n",
       "       [-1.89957294],\n",
       "       [ 0.55448741],\n",
       "       [ 2.81945911],\n",
       "       [-0.40832989],\n",
       "       [-2.72129752]])"
      ]
     },
     "execution_count": 12,
     "metadata": {},
     "output_type": "execute_result"
    }
   ],
   "source": [
    "x_test"
   ]
  },
  {
   "cell_type": "code",
   "execution_count": 13,
   "id": "9ea6eea9",
   "metadata": {},
   "outputs": [
    {
     "data": {
      "text/plain": [
       "array([ 0.69798591,  1.87664889, -1.41502356,  0.77932073,  0.09398858,\n",
       "        0.03527881,  0.86893293,  0.08448544,  0.0945257 ,  1.00032374,\n",
       "       -1.51369739, -2.47196233, -0.52734666, -1.67303415,  1.53708251,\n",
       "        1.49417157, -0.47411033,  0.33122576, -1.13455014,  0.75418806,\n",
       "       -2.08581717, -0.98618122, -1.52730805,  0.09756349, -1.12469096,\n",
       "       -0.3409073 ,  0.22956153,  0.25438895,  0.03497884, -0.44822073])"
      ]
     },
     "execution_count": 13,
     "metadata": {},
     "output_type": "execute_result"
    }
   ],
   "source": [
    "y_train"
   ]
  },
  {
   "cell_type": "code",
   "execution_count": 14,
   "id": "dfbab433",
   "metadata": {},
   "outputs": [
    {
     "data": {
      "text/plain": [
       "array([ 0.37299129,  0.21778193,  0.96695428, -1.38773632, -1.05979555,\n",
       "       -0.90496988,  0.43655826,  0.7789638 , -0.54114599, -0.95652133])"
      ]
     },
     "execution_count": 14,
     "metadata": {},
     "output_type": "execute_result"
    }
   ],
   "source": [
    "y_test"
   ]
  },
  {
   "cell_type": "code",
   "execution_count": 15,
   "id": "d29d337f",
   "metadata": {},
   "outputs": [],
   "source": [
    "# instantiate the model and set the number of neighbors to consider to 3"
   ]
  },
  {
   "cell_type": "code",
   "execution_count": 16,
   "id": "6a57b0aa",
   "metadata": {},
   "outputs": [],
   "source": [
    "reg = KNeighborsRegressor(n_neighbors=3)"
   ]
  },
  {
   "cell_type": "code",
   "execution_count": 17,
   "id": "24e378f4",
   "metadata": {},
   "outputs": [],
   "source": [
    "# fit the model using the training data and training target"
   ]
  },
  {
   "cell_type": "code",
   "execution_count": 18,
   "id": "001a08ef",
   "metadata": {},
   "outputs": [
    {
     "data": {
      "text/plain": [
       "KNeighborsRegressor(n_neighbors=3)"
      ]
     },
     "execution_count": 18,
     "metadata": {},
     "output_type": "execute_result"
    }
   ],
   "source": [
    "reg.fit(x_train,y_train)"
   ]
  },
  {
   "cell_type": "code",
   "execution_count": 26,
   "id": "5721311c",
   "metadata": {},
   "outputs": [],
   "source": [
    "# now is the time to predicts the test set results"
   ]
  },
  {
   "cell_type": "code",
   "execution_count": 19,
   "id": "71d98bd3",
   "metadata": {},
   "outputs": [
    {
     "name": "stdout",
     "output_type": "stream",
     "text": [
      "Test set predictions : \n",
      "[-0.05396539  0.35686046  1.13671923 -1.89415682 -1.13881398 -1.63113382\n",
      "  0.35686046  0.91241374 -0.44680446 -1.13881398]\n"
     ]
    }
   ],
   "source": [
    "print(\"Test set predictions : \\n{}\".format(reg.predict(x_test)))"
   ]
  },
  {
   "cell_type": "code",
   "execution_count": 27,
   "id": "ccfc43b3",
   "metadata": {},
   "outputs": [],
   "source": [
    "# here we are calculating the R square method to test the accuracy"
   ]
  },
  {
   "cell_type": "code",
   "execution_count": 21,
   "id": "c6085c6f",
   "metadata": {},
   "outputs": [
    {
     "name": "stdout",
     "output_type": "stream",
     "text": [
      "Test set R^2 : 0.83\n"
     ]
    }
   ],
   "source": [
    "print(\"Test set R^2 : {:.2f}\".format(reg.score(x_test,y_test)))"
   ]
  },
  {
   "cell_type": "code",
   "execution_count": null,
   "id": "0c810caf",
   "metadata": {},
   "outputs": [],
   "source": []
  }
 ],
 "metadata": {
  "kernelspec": {
   "display_name": "Python 3 (ipykernel)",
   "language": "python",
   "name": "python3"
  },
  "language_info": {
   "codemirror_mode": {
    "name": "ipython",
    "version": 3
   },
   "file_extension": ".py",
   "mimetype": "text/x-python",
   "name": "python",
   "nbconvert_exporter": "python",
   "pygments_lexer": "ipython3",
   "version": "3.9.13"
  }
 },
 "nbformat": 4,
 "nbformat_minor": 5
}
