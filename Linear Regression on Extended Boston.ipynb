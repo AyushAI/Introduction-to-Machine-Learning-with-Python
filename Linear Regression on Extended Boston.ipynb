{
 "cells": [
  {
   "cell_type": "code",
   "execution_count": 18,
   "id": "cf12ac23",
   "metadata": {},
   "outputs": [],
   "source": [
    "# here we first import the mglearb for futher operations"
   ]
  },
  {
   "cell_type": "code",
   "execution_count": 1,
   "id": "eea94553",
   "metadata": {},
   "outputs": [],
   "source": [
    "import mglearn"
   ]
  },
  {
   "cell_type": "code",
   "execution_count": 19,
   "id": "5c464708",
   "metadata": {},
   "outputs": [],
   "source": [
    "# now import the datasets in two dimensions i.e. X and Y"
   ]
  },
  {
   "cell_type": "code",
   "execution_count": 2,
   "id": "e3f019c6",
   "metadata": {},
   "outputs": [
    {
     "name": "stderr",
     "output_type": "stream",
     "text": [
      "C:\\Users\\AYUSH\\anaconda3\\lib\\site-packages\\sklearn\\utils\\deprecation.py:87: FutureWarning: Function load_boston is deprecated; `load_boston` is deprecated in 1.0 and will be removed in 1.2.\n",
      "\n",
      "    The Boston housing prices dataset has an ethical problem. You can refer to\n",
      "    the documentation of this function for further details.\n",
      "\n",
      "    The scikit-learn maintainers therefore strongly discourage the use of this\n",
      "    dataset unless the purpose of the code is to study and educate about\n",
      "    ethical issues in data science and machine learning.\n",
      "\n",
      "    In this special case, you can fetch the dataset from the original\n",
      "    source::\n",
      "\n",
      "        import pandas as pd\n",
      "        import numpy as np\n",
      "\n",
      "\n",
      "        data_url = \"http://lib.stat.cmu.edu/datasets/boston\"\n",
      "        raw_df = pd.read_csv(data_url, sep=\"\\s+\", skiprows=22, header=None)\n",
      "        data = np.hstack([raw_df.values[::2, :], raw_df.values[1::2, :2]])\n",
      "        target = raw_df.values[1::2, 2]\n",
      "\n",
      "    Alternative datasets include the California housing dataset (i.e.\n",
      "    :func:`~sklearn.datasets.fetch_california_housing`) and the Ames housing\n",
      "    dataset. You can load the datasets as follows::\n",
      "\n",
      "        from sklearn.datasets import fetch_california_housing\n",
      "        housing = fetch_california_housing()\n",
      "\n",
      "    for the California housing dataset and::\n",
      "\n",
      "        from sklearn.datasets import fetch_openml\n",
      "        housing = fetch_openml(name=\"house_prices\", as_frame=True)\n",
      "\n",
      "    for the Ames housing dataset.\n",
      "    \n",
      "  warnings.warn(msg, category=FutureWarning)\n"
     ]
    }
   ],
   "source": [
    "x , y =mglearn.datasets.load_extended_boston()"
   ]
  },
  {
   "cell_type": "code",
   "execution_count": 3,
   "id": "3d74889b",
   "metadata": {},
   "outputs": [],
   "source": [
    "from sklearn.model_selection import train_test_split"
   ]
  },
  {
   "cell_type": "code",
   "execution_count": 4,
   "id": "f7d72d4e",
   "metadata": {},
   "outputs": [],
   "source": [
    "x_train, x_test, y_train, y_test = train_test_split(x,y,random_state = 0)"
   ]
  },
  {
   "cell_type": "code",
   "execution_count": 5,
   "id": "aaef0334",
   "metadata": {},
   "outputs": [
    {
     "data": {
      "text/plain": [
       "array([[0.00207947, 0.22      , 0.19794721, ..., 0.96119883, 0.45259981,\n",
       "        0.21311573],\n",
       "       [0.00108981, 0.25      , 0.17118768, ..., 1.        , 0.2066777 ,\n",
       "        0.04271567],\n",
       "       [0.00110566, 0.4       , 0.2181085 , ..., 0.96179224, 0.11690584,\n",
       "        0.0142099 ],\n",
       "       ...,\n",
       "       [0.00162594, 0.        , 0.35007331, ..., 0.98798327, 0.23505388,\n",
       "        0.05592233],\n",
       "       [0.0025059 , 0.        , 0.23643695, ..., 0.97913066, 0.46608557,\n",
       "        0.22186595],\n",
       "       [0.00149286, 0.        , 0.13159824, ..., 1.        , 0.35761589,\n",
       "        0.12788913]])"
      ]
     },
     "execution_count": 5,
     "metadata": {},
     "output_type": "execute_result"
    }
   ],
   "source": [
    "x_train"
   ]
  },
  {
   "cell_type": "code",
   "execution_count": 6,
   "id": "97de6e3c",
   "metadata": {},
   "outputs": [
    {
     "data": {
      "text/plain": [
       "array([[6.84726112e-04, 0.00000000e+00, 1.01906158e-01, ...,\n",
       "        8.93606039e-01, 1.46334834e-01, 2.39634501e-02],\n",
       "       [1.03697791e-01, 0.00000000e+00, 6.46627566e-01, ...,\n",
       "        8.50936235e-01, 1.98543157e-01, 4.63247226e-02],\n",
       "       [1.21310718e-03, 0.00000000e+00, 4.92302053e-01, ...,\n",
       "        9.84127236e-01, 2.40069523e-01, 5.85629316e-02],\n",
       "       ...,\n",
       "       [3.85613648e-03, 0.00000000e+00, 3.46041056e-01, ...,\n",
       "        9.96674311e-01, 2.26994668e-01, 5.16985122e-02],\n",
       "       [1.03596858e-03, 0.00000000e+00, 9.23387097e-01, ...,\n",
       "        9.13596232e-01, 4.18040374e-01, 1.91285546e-01],\n",
       "       [7.72283834e-04, 3.30000000e-01, 6.30498534e-02, ...,\n",
       "        1.00000000e+00, 1.30794702e-01, 1.71072541e-02]])"
      ]
     },
     "execution_count": 6,
     "metadata": {},
     "output_type": "execute_result"
    }
   ],
   "source": [
    "x_test"
   ]
  },
  {
   "cell_type": "code",
   "execution_count": 7,
   "id": "2b4099ed",
   "metadata": {},
   "outputs": [
    {
     "data": {
      "text/plain": [
       "array([18.5, 19.6, 33.2, 13.1,  7.5, 13.6, 17.4,  8.4, 35.4, 24. , 13.4,\n",
       "       26.2,  7.2, 13.1, 24.5, 37.2, 25. , 24.1, 16.6, 32.9, 36.2, 11. ,\n",
       "        7.2, 22.8, 28.7, 14.4, 24.4, 18.1, 22.5, 20.5, 15.2, 17.4, 13.6,\n",
       "        8.7, 18.2, 35.4, 31.7, 33. , 22.2, 20.4, 23.9, 25. , 12.7, 29.1,\n",
       "       12. , 17.7, 27. , 20.6, 10.2, 17.5, 19.7, 29.8, 20.5, 14.9, 10.9,\n",
       "       19.5, 22.7, 19.5, 24.6, 25. , 24.5, 50. , 14.3, 11.8, 31. , 28.7,\n",
       "       16.2, 43.5, 25. , 22. , 19.9, 22.1, 46. , 22.9, 20.2, 43.1, 34.6,\n",
       "       13.8, 24.3, 21.5, 24.4, 21.2, 23.8, 26.6, 25.1,  9.6, 19.4, 19.4,\n",
       "        9.5, 14. , 26.5, 13.8, 34.7, 16.3, 21.7, 17.5, 15.6, 20.9, 21.7,\n",
       "       12.7, 18.5, 23.7, 19.3, 12.7, 21.6, 23.2, 29.6, 21.2, 23.8, 17.1,\n",
       "       22. , 36.5, 18.8, 21.9, 23.1, 20.2, 17.4, 37. , 24.1, 36.2, 15.7,\n",
       "       32.2, 13.5, 17.9, 13.3, 11.7, 41.7, 18.4, 13.1, 25. , 21.2, 16. ,\n",
       "       34.9, 25.2, 24.8, 21.5, 23.4, 18.9, 10.8, 21. , 27.5, 17.5, 13.5,\n",
       "       28.7, 14.8, 19.1, 28.6, 13.1, 19. , 11.3, 13.3, 22.4, 20.1, 18.2,\n",
       "       22.9, 20.6, 25. , 12.8, 34.9, 23.7, 50. , 29. , 30.1, 22. , 15.6,\n",
       "       23.3, 30.1, 14.3, 22.8, 50. , 20.8,  6.3, 34.9, 32.4, 19.9, 20.3,\n",
       "       17.8, 23.1, 20.4, 23.2,  7. , 16.8, 46.7, 50. , 22.9, 23.9, 21.4,\n",
       "       21.7, 15.4, 15.3, 23.1, 23.9, 19.4, 11.9, 17.8, 31.5, 33.8, 20.8,\n",
       "       19.8, 22.4,  5. , 24.5, 19.4, 15.1, 18.2, 19.3, 27.1, 20.7, 37.6,\n",
       "       11.7, 33.4, 30.1, 21.4, 45.4, 20.1, 20.8, 26.4, 10.4, 21.8, 32. ,\n",
       "       21.7, 18.4, 37.9, 17.8, 28. , 28.2, 36. , 18.9, 15. , 22.5, 30.7,\n",
       "       20. , 19.1, 23.3, 26.6, 21.1, 19.7, 20. , 12.1,  7.2, 14.2, 17.3,\n",
       "       27.5, 22.2, 10.9, 19.2, 32. , 14.5, 24.7, 12.6, 24. , 24.1, 50. ,\n",
       "       16.1, 43.8, 26.6, 36.1, 21.8, 29.9, 50. , 44. , 20.6, 19.6, 28.4,\n",
       "       19.1, 22.3, 20.9, 28.4, 14.4, 32.7, 13.8,  8.5, 22.5, 35.1, 31.6,\n",
       "       17.8, 15.6, 20.7, 39.8, 17.8, 19.6, 14.9, 22. , 48.8, 25. , 48.5,\n",
       "       23.9, 20.3, 15.2, 10.5, 19. , 16.4,  8.8, 22. , 24.8, 50. , 19.3,\n",
       "       22.7, 37.3, 31.6,  8.3, 23.1, 50. , 13.9, 16.1, 25.3, 19.5, 10.2,\n",
       "       19.9, 35.2, 13.4, 24.7, 11.5, 23.4, 16.7, 15.4, 18. , 28.5, 18.4,\n",
       "       32.5, 50. , 50. , 19.6, 17.6, 42.3, 14.5, 13.2, 16.2, 29.6, 16.7,\n",
       "       13. , 22.3, 13.4,  5. , 19.5, 14.6, 22. ,  8.1, 24.6, 33.2, 20.6,\n",
       "       14.1, 14.1, 21.1, 30.3, 23.7, 21.4, 18.3,  8.5, 22.8, 22.8, 22.2,\n",
       "       13.9, 25. , 18.5,  7. , 22.6, 20.1, 30.8, 31.1, 23.8, 12.5, 23.6,\n",
       "       23.2, 24.2, 22.2, 27.9, 22.2, 33.1, 19.3, 18.9, 22.6, 50. , 24.8,\n",
       "       18.5, 36.4, 19.2, 16.6, 23.1])"
      ]
     },
     "execution_count": 7,
     "metadata": {},
     "output_type": "execute_result"
    }
   ],
   "source": [
    "y_train"
   ]
  },
  {
   "cell_type": "code",
   "execution_count": 8,
   "id": "f0aab525",
   "metadata": {},
   "outputs": [
    {
     "data": {
      "text/plain": [
       "array([22.6, 50. , 23. ,  8.3, 21.2, 19.9, 20.6, 18.7, 16.1, 18.6,  8.8,\n",
       "       17.2, 14.9, 10.5, 50. , 29. , 23. , 33.3, 29.4, 21. , 23.8, 19.1,\n",
       "       20.4, 29.1, 19.3, 23.1, 19.6, 19.4, 38.7, 18.7, 14.6, 20. , 20.5,\n",
       "       20.1, 23.6, 16.8,  5.6, 50. , 14.5, 13.3, 23.9, 20. , 19.8, 13.8,\n",
       "       16.5, 21.6, 20.3, 17. , 11.8, 27.5, 15.6, 23.1, 24.3, 42.8, 15.6,\n",
       "       21.7, 17.1, 17.2, 15. , 21.7, 18.6, 21. , 33.1, 31.5, 20.1, 29.8,\n",
       "       15.2, 15. , 27.5, 22.6, 20. , 21.4, 23.5, 31.2, 23.7,  7.4, 48.3,\n",
       "       24.4, 22.6, 18.3, 23.3, 17.1, 27.9, 44.8, 50. , 23. , 21.4, 10.2,\n",
       "       23.3, 23.2, 18.9, 13.4, 21.9, 24.8, 11.9, 24.3, 13.8, 24.7, 14.1,\n",
       "       18.7, 28.1, 19.8, 26.7, 21.7, 22. , 22.9, 10.4, 21.9, 20.6, 26.4,\n",
       "       41.3, 17.2, 27.1, 20.4, 16.5, 24.4,  8.4, 23. ,  9.7, 50. , 30.5,\n",
       "       12.3, 19.4, 21.2, 20.3, 18.8, 33.4])"
      ]
     },
     "execution_count": 8,
     "metadata": {},
     "output_type": "execute_result"
    }
   ],
   "source": [
    "y_test"
   ]
  },
  {
   "cell_type": "code",
   "execution_count": 20,
   "id": "d466a1e1",
   "metadata": {},
   "outputs": [],
   "source": [
    "# here we import the Linear Regression model from Linear Model"
   ]
  },
  {
   "cell_type": "code",
   "execution_count": 9,
   "id": "4ce71f21",
   "metadata": {},
   "outputs": [],
   "source": [
    "from sklearn.linear_model import LinearRegression"
   ]
  },
  {
   "cell_type": "code",
   "execution_count": 21,
   "id": "89b0f779",
   "metadata": {},
   "outputs": [],
   "source": [
    "# giving the alias as lr for Linear Regression"
   ]
  },
  {
   "cell_type": "code",
   "execution_count": 10,
   "id": "34216294",
   "metadata": {},
   "outputs": [],
   "source": [
    "lr = LinearRegression()"
   ]
  },
  {
   "cell_type": "code",
   "execution_count": 13,
   "id": "14d42ee6",
   "metadata": {},
   "outputs": [
    {
     "data": {
      "text/plain": [
       "LinearRegression()"
      ]
     },
     "execution_count": 13,
     "metadata": {},
     "output_type": "execute_result"
    }
   ],
   "source": [
    "lr"
   ]
  },
  {
   "cell_type": "code",
   "execution_count": 22,
   "id": "c7a5a8b2",
   "metadata": {},
   "outputs": [],
   "source": [
    "# now we are fitting the linear regression model with the training data"
   ]
  },
  {
   "cell_type": "code",
   "execution_count": 15,
   "id": "953c9ac7",
   "metadata": {},
   "outputs": [
    {
     "data": {
      "text/plain": [
       "LinearRegression()"
      ]
     },
     "execution_count": 15,
     "metadata": {},
     "output_type": "execute_result"
    }
   ],
   "source": [
    "lr.fit(x_train,y_train)"
   ]
  },
  {
   "cell_type": "code",
   "execution_count": 23,
   "id": "8ccfd32a",
   "metadata": {},
   "outputs": [],
   "source": [
    "# here we are analyzing the training set score"
   ]
  },
  {
   "cell_type": "code",
   "execution_count": 24,
   "id": "d228b99e",
   "metadata": {},
   "outputs": [
    {
     "name": "stdout",
     "output_type": "stream",
     "text": [
      "Training set score : 0.95\n"
     ]
    }
   ],
   "source": [
    "print(\"Training set score : {:.2f}\".format(lr.score(x_train,y_train)))"
   ]
  },
  {
   "cell_type": "code",
   "execution_count": 25,
   "id": "d0f7188f",
   "metadata": {},
   "outputs": [],
   "source": [
    "# and finally analyzing the testing set score"
   ]
  },
  {
   "cell_type": "code",
   "execution_count": 17,
   "id": "1c75d661",
   "metadata": {},
   "outputs": [
    {
     "name": "stdout",
     "output_type": "stream",
     "text": [
      "Testing set score : 0.61\n"
     ]
    }
   ],
   "source": [
    "print(\"Testing set score : {:.2f}\".format(lr.score(x_test,y_test)))"
   ]
  },
  {
   "cell_type": "code",
   "execution_count": null,
   "id": "f09b2bdd",
   "metadata": {},
   "outputs": [],
   "source": []
  }
 ],
 "metadata": {
  "kernelspec": {
   "display_name": "Python 3 (ipykernel)",
   "language": "python",
   "name": "python3"
  },
  "language_info": {
   "codemirror_mode": {
    "name": "ipython",
    "version": 3
   },
   "file_extension": ".py",
   "mimetype": "text/x-python",
   "name": "python",
   "nbconvert_exporter": "python",
   "pygments_lexer": "ipython3",
   "version": "3.9.13"
  }
 },
 "nbformat": 4,
 "nbformat_minor": 5
}
